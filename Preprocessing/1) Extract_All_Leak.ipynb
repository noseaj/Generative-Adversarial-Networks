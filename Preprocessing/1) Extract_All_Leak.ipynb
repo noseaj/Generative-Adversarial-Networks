{
 "cells": [
  {
   "cell_type": "code",
   "execution_count": 1,
   "metadata": {
    "executionInfo": {
     "elapsed": 1964,
     "status": "ok",
     "timestamp": 1668677635522,
     "user": {
      "displayName": "장효영",
      "userId": "03421268139272049983"
     },
     "user_tz": -540
    },
    "id": "oClk4WGrR2_i"
   },
   "outputs": [],
   "source": [
    "import cv2\n",
    "import numpy as np\n",
    "import json\n",
    "import torch\n",
    "import os"
   ]
  },
  {
   "cell_type": "code",
   "execution_count": 2,
   "metadata": {
    "colab": {
     "base_uri": "https://localhost:8080/"
    },
    "executionInfo": {
     "elapsed": 10,
     "status": "ok",
     "timestamp": 1668677636273,
     "user": {
      "displayName": "장효영",
      "userId": "03421268139272049983"
     },
     "user_tz": -540
    },
    "id": "FzmP99UdR8lR",
    "outputId": "91b86410-1758-49f5-e139-a78b89466b01"
   },
   "outputs": [
    {
     "data": {
      "text/plain": [
       "device(type='cpu')"
      ]
     },
     "execution_count": 2,
     "metadata": {},
     "output_type": "execute_result"
    }
   ],
   "source": [
    "device = torch.device(\"cuda\" if torch.cuda.is_available() else \"cpu\")\n",
    "device"
   ]
  },
  {
   "cell_type": "markdown",
   "metadata": {},
   "source": [
    "# 파일명 1~N 변경"
   ]
  },
  {
   "cell_type": "code",
   "execution_count": 3,
   "metadata": {},
   "outputs": [],
   "source": [
    "file_path = './image'\n",
    "file_names = os.listdir(file_path)"
   ]
  },
  {
   "cell_type": "code",
   "execution_count": 4,
   "metadata": {},
   "outputs": [],
   "source": [
    "i = 1\n",
    "for name in file_names:\n",
    "    src = os.path.join(file_path, name)\n",
    "    dst = str(i) + '.jpg'\n",
    "    dst = os.path.join(file_path, dst)\n",
    "    os.rename(src, dst)\n",
    "    i += 1"
   ]
  },
  {
   "cell_type": "code",
   "execution_count": 5,
   "metadata": {},
   "outputs": [],
   "source": [
    "file_path = './json'\n",
    "file_names = os.listdir(file_path)"
   ]
  },
  {
   "cell_type": "code",
   "execution_count": 6,
   "metadata": {},
   "outputs": [],
   "source": [
    "i = 1\n",
    "for name in file_names:\n",
    "    src = os.path.join(file_path, name)\n",
    "    dst = str(i) + '.json'\n",
    "    dst = os.path.join(file_path, dst)\n",
    "    os.rename(src, dst)\n",
    "    i += 1"
   ]
  },
  {
   "cell_type": "markdown",
   "metadata": {},
   "source": [
    "---"
   ]
  },
  {
   "cell_type": "markdown",
   "metadata": {},
   "source": [
    "# Leak Extract"
   ]
  },
  {
   "cell_type": "markdown",
   "metadata": {},
   "source": [
    "- 1485개의 원본 이미지 내에 Leak 추출\n",
    "- 원본 이미지 각각에 대한 json파일은 이미지 내에 포함된 Leak(불량)의 좌표 정보를 담고 있음\n",
    "- json 파일을 활용하여 Leak 하나에 대한 상, 하, 좌, 우 좌표값을 입력 받아 Leak만 Crop\n",
    "- 하나의 원본 이미지 당 1~5개의 Leak가 추출됨.\n",
    "- 최종적으로 추출된 Leak는 4,338개"
   ]
  },
  {
   "cell_type": "code",
   "execution_count": 3,
   "metadata": {},
   "outputs": [
    {
     "name": "stdout",
     "output_type": "stream",
     "text": [
      "102\n"
     ]
    }
   ],
   "source": [
    "for i in range(1, 1486):\n",
    "    img = cv2.imread(f'./image/{i}.jpg', cv2.IMREAD_COLOR)\n",
    "    with open(f'./json/{i}.json') as f:\n",
    "        json_object = json.load(f)\n",
    "    for j in range(len(json_object['shapes'])):\n",
    "        leak1 = json_object['shapes'][j]['points']\n",
    "        if (len(leak1) > 4): #리크가 점 1개면 오류 발생\n",
    "            min_x = leak1[0][0]\n",
    "            max_x = leak1[0][0]\n",
    "            min_y = leak1[0][1] \n",
    "            max_y = leak1[0][1]\n",
    "\n",
    "            for k in range(len(leak1)):\n",
    "                #min_x 찾기\n",
    "                if leak1[k][0] < min_x:\n",
    "                    min_x = leak1[k][0]\n",
    "                else:\n",
    "                    pass\n",
    "                #max_x 찾기\n",
    "                if leak1[k][0] > max_x:\n",
    "                    max_x = leak1[k][0]\n",
    "                else:\n",
    "                    pass\n",
    "                #min_y 찾기\n",
    "                if leak1[k][1] < min_y:\n",
    "                    min_y = leak1[k][1]\n",
    "                else:\n",
    "                    pass\n",
    "                #max_y 찾기\n",
    "                if leak1[k][1] > max_y:\n",
    "                    max_y = leak1[k][1]\n",
    "                else:\n",
    "                    pass\n",
    "\n",
    "            x=int(min_x)\n",
    "            y=int(min_y)\n",
    "            w=int(max_x - min_x)\n",
    "            h=int(max_y - min_y)\n",
    "            if(w==0 or h ==0): #일자 리크는 오류\n",
    "                break\n",
    "            roi = img[y:y+h, x:x+w]\n",
    "            save_path = f'./leak/leak{i}_{j+1}.jpg'\n",
    "            cv2.imwrite(save_path, roi)\n",
    "        else:\n",
    "            print(i)\n",
    "            pass"
   ]
  }
 ],
 "metadata": {
  "accelerator": "GPU",
  "colab": {
   "provenance": [
    {
     "file_id": "1JtE3iYLBdAx71qjUu29yIIlOCKoEiNa2",
     "timestamp": 1663552238243
    }
   ]
  },
  "kernelspec": {
   "display_name": "Python 3 (ipykernel)",
   "language": "python",
   "name": "python3"
  },
  "language_info": {
   "codemirror_mode": {
    "name": "ipython",
    "version": 3
   },
   "file_extension": ".py",
   "mimetype": "text/x-python",
   "name": "python",
   "nbconvert_exporter": "python",
   "pygments_lexer": "ipython3",
   "version": "3.9.12"
  }
 },
 "nbformat": 4,
 "nbformat_minor": 1
}
