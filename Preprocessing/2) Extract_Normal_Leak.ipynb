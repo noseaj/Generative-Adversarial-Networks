{
 "cells": [
  {
   "cell_type": "markdown",
   "id": "7582916d",
   "metadata": {},
   "source": [
    "## Gridline 없는 leak만 분리"
   ]
  },
  {
   "cell_type": "code",
   "execution_count": 1,
   "id": "9337f441",
   "metadata": {},
   "outputs": [],
   "source": [
    "import cv2\n",
    "import numpy as np\n",
    "from PIL import Image\n",
    "import json\n",
    "import torch\n",
    "import os"
   ]
  },
  {
   "cell_type": "code",
   "execution_count": 43,
   "id": "04b13333",
   "metadata": {},
   "outputs": [
    {
     "data": {
      "text/plain": [
       "4338"
      ]
     },
     "execution_count": 43,
     "metadata": {},
     "output_type": "execute_result"
    }
   ],
   "source": [
    "file_path = './leak'\n",
    "leak_list = os.listdir(file_path)\n",
    "len(leak_list)"
   ]
  },
  {
   "cell_type": "code",
   "execution_count": 53,
   "id": "ffad9878",
   "metadata": {},
   "outputs": [
    {
     "data": {
      "text/plain": [
       "1354"
      ]
     },
     "execution_count": 53,
     "metadata": {},
     "output_type": "execute_result"
    }
   ],
   "source": [
    "temp = set()\n",
    "for leak_name in leak_list:\n",
    "    leak = Image.open('./Resize/'+leak_name)\n",
    "    for i in range(0,leak.size[1]): # y방향 탐색\n",
    "        for j in range(0,leak.size[0]): # x방향 탐색\n",
    "            r,g,b = leak.getpixel((j,i))  # j, i 위치에서의 RGB 취득\n",
    "            if ((127 <= r <= 255) and (127 <= g <= 255) and (0<= b <= 100)):\n",
    "                temp.add(leak_name)\n",
    "grid_leak_list = [x for x in temp]\n",
    "len(grid_leak_list)"
   ]
  },
  {
   "cell_type": "code",
   "execution_count": 54,
   "id": "30c24b39",
   "metadata": {},
   "outputs": [],
   "source": [
    "no_grid_leak_list = list(set(leak_list) - set(grid_leak_list))"
   ]
  },
  {
   "cell_type": "code",
   "execution_count": 55,
   "id": "a0892fb3",
   "metadata": {},
   "outputs": [
    {
     "data": {
      "text/plain": [
       "2984"
      ]
     },
     "execution_count": 55,
     "metadata": {},
     "output_type": "execute_result"
    }
   ],
   "source": [
    "len(no_grid_leak_list)"
   ]
  },
  {
   "cell_type": "code",
   "execution_count": 56,
   "id": "84ac66c8",
   "metadata": {},
   "outputs": [],
   "source": [
    "for leak_name in no_grid_leak_list:\n",
    "    leak = Image.open('./Resize/'+leak_name)\n",
    "    leak.save('./NoGridline/'+leak_name)\n",
    "    leak.close()"
   ]
  },
  {
   "cell_type": "code",
   "execution_count": 57,
   "id": "416ca43e",
   "metadata": {},
   "outputs": [],
   "source": [
    "for leak_name in grid_leak_list:\n",
    "    leak = Image.open('./Resize/'+leak_name)\n",
    "    leak.save('./Gridline/'+leak_name)\n",
    "    leak.close()"
   ]
  },
  {
   "cell_type": "markdown",
   "id": "12f080f1",
   "metadata": {},
   "source": [
    "---"
   ]
  }
 ],
 "metadata": {
  "kernelspec": {
   "display_name": "Python 3 (ipykernel)",
   "language": "python",
   "name": "python3"
  },
  "language_info": {
   "codemirror_mode": {
    "name": "ipython",
    "version": 3
   },
   "file_extension": ".py",
   "mimetype": "text/x-python",
   "name": "python",
   "nbconvert_exporter": "python",
   "pygments_lexer": "ipython3",
   "version": "3.9.12"
  }
 },
 "nbformat": 4,
 "nbformat_minor": 5
}
