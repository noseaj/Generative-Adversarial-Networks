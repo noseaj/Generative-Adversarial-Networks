{
 "cells": [
  {
   "cell_type": "markdown",
   "id": "a50f8a19",
   "metadata": {},
   "source": [
    "# Resize"
   ]
  },
  {
   "cell_type": "code",
   "execution_count": 2,
   "id": "12012000",
   "metadata": {},
   "outputs": [],
   "source": [
    "import cv2\n",
    "from PIL import Image\n",
    "import os\n",
    "from torchvision import transforms\n",
    "from matplotlib import pyplot as plt"
   ]
  },
  {
   "cell_type": "code",
   "execution_count": 2,
   "id": "28444962",
   "metadata": {},
   "outputs": [],
   "source": [
    "file_path = './leak/'\n",
    "imglist = os.listdir(file_path)"
   ]
  },
  {
   "cell_type": "code",
   "execution_count": 3,
   "id": "9220c790",
   "metadata": {},
   "outputs": [],
   "source": [
    "from PIL import Image\n",
    "\n",
    "for img_name in imglist:\n",
    "    img = Image.open('./leak/'+img_name)\n",
    "    resize_img = img.resize((64, 64))\n",
    "    resize_img.save('./Resize/'+img_name)\n",
    "    img.close()"
   ]
  },
  {
   "cell_type": "markdown",
   "id": "a30986b9",
   "metadata": {},
   "source": [
    "---"
   ]
  },
  {
   "cell_type": "markdown",
   "id": "acb30a17",
   "metadata": {},
   "source": [
    "# Augmentation"
   ]
  },
  {
   "cell_type": "code",
   "execution_count": 7,
   "id": "8355019e",
   "metadata": {},
   "outputs": [],
   "source": [
    "file_path = './NoGridline leak Extract/Last/'\n",
    "imglist = os.listdir(file_path)"
   ]
  },
  {
   "cell_type": "code",
   "execution_count": 11,
   "id": "368be51f",
   "metadata": {},
   "outputs": [],
   "source": [
    "import albumentations as A\n",
    "import cv2\n",
    "\n",
    "transform = A.HorizontalFlip(p=1)\n",
    "\n",
    "\n",
    "for img_name in imglist : \n",
    "    image = cv2.imread('./NoGridline leak Extract/Last/'+img_name)\n",
    "\n",
    "\n",
    "    augmentations = transform(image=image)\n",
    "    augmentation_img = augmentations[\"image\"]\n",
    "\n",
    "    cv2.imwrite('./NoGridline leak Extract/Last_Augmentation/'+\"h_flip_\"+img_name, augmentation_img)"
   ]
  },
  {
   "cell_type": "code",
   "execution_count": 12,
   "id": "ea5d514e",
   "metadata": {},
   "outputs": [],
   "source": [
    "import albumentations as A\n",
    "import cv2\n",
    "\n",
    "transform = A.RandomRotate90(p=1)\n",
    "\n",
    "\n",
    "for img_name in imglist : \n",
    "    image = cv2.imread('./NoGridline leak Extract/Last/'+img_name)\n",
    "\n",
    "\n",
    "    augmentations = transform(image=image)\n",
    "    augmentation_img = augmentations[\"image\"]\n",
    "\n",
    "    cv2.imwrite('./NoGridline leak Extract/Last_Augmentation/'+\"r_rotate90_\"+img_name, augmentation_img)"
   ]
  },
  {
   "cell_type": "code",
   "execution_count": 13,
   "id": "17ab98f9",
   "metadata": {},
   "outputs": [],
   "source": [
    "import albumentations as A\n",
    "import cv2\n",
    "\n",
    "transform = A.VerticalFlip(p=1)\n",
    "\n",
    "    \n",
    "for img_name in imglist : \n",
    "    image = cv2.imread('./NoGridline leak Extract/Last/'+img_name)\n",
    "\n",
    "\n",
    "    augmentations = transform(image=image)\n",
    "    augmentation_img = augmentations[\"image\"]\n",
    "\n",
    "    cv2.imwrite('./NoGridline leak Extract/Last_Augmentation/'+\"v_flip_\"+img_name, augmentation_img)"
   ]
  }
 ],
 "metadata": {
  "kernelspec": {
   "display_name": "Python 3 (ipykernel)",
   "language": "python",
   "name": "python3"
  },
  "language_info": {
   "codemirror_mode": {
    "name": "ipython",
    "version": 3
   },
   "file_extension": ".py",
   "mimetype": "text/x-python",
   "name": "python",
   "nbconvert_exporter": "python",
   "pygments_lexer": "ipython3",
   "version": "3.9.12"
  }
 },
 "nbformat": 4,
 "nbformat_minor": 5
}
